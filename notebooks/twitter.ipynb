{
 "cells": [
  {
   "cell_type": "code",
   "execution_count": null,
   "metadata": {
    "vscode": {
     "languageId": "plaintext"
    }
   },
   "outputs": [],
   "source": [
    "import tweepy\n",
    "\n",
    "# Initialize Tweepy with your Twitter API credentials\n",
    "client = tweepy.Client(bearer_token=\"AAAAAAAAAAAAAAAAAAAAAAF8ywEAAAAA0hoNDdXS14SEpuArPa80kx9Dvfc%3DBgIaZ11TXR8WNObPbQmc3M0hTp9I34sc1BzN0yturEOQnzQMJJ\")\n",
    "\n",
    "# Search for tweets containing \"Bitcoin\"\n",
    "query = \"Bitcoin lang:en -is:retweet\"  # Exclude retweets\n",
    "tweets = client.search_recent_tweets(query=query, max_results=10)\n",
    "\n",
    "for tweet in tweets.data:\n",
    "    print(f\"Tweet: {tweet.text}\")\n",
    "    print(\"------\")"
   ]
  }
 ],
 "metadata": {
  "language_info": {
   "name": "python"
  }
 },
 "nbformat": 4,
 "nbformat_minor": 2
}
