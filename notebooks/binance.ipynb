{
 "cells": [
  {
   "cell_type": "markdown",
   "metadata": {},
   "source": [
    "### This notebook serves to try and learn to use Binance"
   ]
  },
  {
   "cell_type": "markdown",
   "metadata": {},
   "source": [
    "Establishing a connection to see the lastest bitcoin price"
   ]
  },
  {
   "cell_type": "code",
   "execution_count": 1,
   "metadata": {},
   "outputs": [
    {
     "name": "stdout",
     "output_type": "stream",
     "text": [
      "Bitcoin Price: $93700.01000000\n"
     ]
    }
   ],
   "source": [
    "import requests\n",
    "\n",
    "# Binance API endpoint for latest price\n",
    "url = \"https://api.binance.com/api/v3/ticker/price?symbol=BTCUSDT\"\n",
    "\n",
    "# Send request to Binance API\n",
    "response = requests.get(url)\n",
    "\n",
    "# Convert response to JSON\n",
    "data = response.json()\n",
    "\n",
    "# Print the latest price\n",
    "print(f\"Bitcoin Price: ${data['price']}\")\n"
   ]
  },
  {
   "cell_type": "markdown",
   "metadata": {},
   "source": [
    "#### Exploring Binance Market Data\n",
    "- Binance provides different types of data:\n",
    "\n",
    "    - Latest Price (we already did this ✅)\n",
    "    - Order Book (current buy/sell orders)\n",
    "    - Trade History (list of past trades)\n",
    "    - Candlestick (K-line) Data (historical price data over time) 🔥\n",
    "    - 24h Ticker Data (price change in the last 24 hours)"
   ]
  },
  {
   "cell_type": "markdown",
   "metadata": {},
   "source": [
    "##### Getting 24h Price Change Data"
   ]
  },
  {
   "cell_type": "code",
   "execution_count": 2,
   "metadata": {},
   "outputs": [
    {
     "name": "stdout",
     "output_type": "stream",
     "text": [
      "Symbol: BTCUSDT\n",
      "Price Change in 24h: -1731.82000000 USDT\n",
      "Price Change Percentage: -1.816%\n",
      "24h High: 96753.91000000 USDT\n",
      "24h Low: 93388.09000000 USDT\n",
      "24h Volume: 19839.67902000 BTC\n"
     ]
    }
   ],
   "source": [
    "import requests\n",
    "\n",
    "# Binance API endpoint for 24h ticker data\n",
    "url = \"https://api.binance.com/api/v3/ticker/24hr?symbol=BTCUSDT\"\n",
    "\n",
    "# Send request to Binance API\n",
    "response = requests.get(url)\n",
    "data = response.json()\n",
    "\n",
    "# Extract useful information\n",
    "print(f\"Symbol: {data['symbol']}\")\n",
    "print(f\"Price Change in 24h: {data['priceChange']} USDT\")\n",
    "print(f\"Price Change Percentage: {data['priceChangePercent']}%\")\n",
    "print(f\"24h High: {data['highPrice']} USDT\")\n",
    "print(f\"24h Low: {data['lowPrice']} USDT\")\n",
    "print(f\"24h Volume: {data['volume']} BTC\")\n"
   ]
  },
  {
   "cell_type": "markdown",
   "metadata": {},
   "source": [
    "#### What is Candlestick (K-line) Data?\n",
    "Candlestick data is used in trading to represent price movements over a specific time period. Each \"candle\" contains:\n",
    "\n",
    "- Open price (starting price at the beginning of the time period)\n",
    "- High price (highest price during that period)\n",
    "- Low price (lowest price during that period)\n",
    "- Close price (final price at the end of that period)\n",
    "- Volume (how much was traded)"
   ]
  },
  {
   "cell_type": "code",
   "execution_count": 16,
   "metadata": {},
   "outputs": [
    {
     "name": "stderr",
     "output_type": "stream",
     "text": [
      "2025-02-10 13:32:39.798 UTC DEBUG urllib3.connectionpool: Starting new HTTPS connection (1): api.binance.com:443\n",
      "2025-02-10 13:32:40.250 UTC DEBUG urllib3.connectionpool: https://api.binance.com:443 \"GET /api/v3/klines?symbol=ETHUSDT&interval=1d&limit=100 HTTP/11\" 200 6287\n"
     ]
    },
    {
     "name": "stdout",
     "output_type": "stream",
     "text": [
      "Timestamp (Open time): 1730592000000\n",
      "Open Price: 2494.23000000 USDT\n",
      "High Price: 2496.39000000 USDT\n",
      "Low Price: 2411.00000000 USDT\n",
      "Close Price: 2457.73000000 USDT\n",
      "Volume: 276009.11970000 ETH\n",
      "Close Time: 1730678399999\n",
      "Quote Asset Volume: 675516839.24615800\n",
      "Number of Trades: 2569553\n",
      "Taker Buy Base Asset Volume: 128755.13020000\n",
      "Taker Buy Quote Asset Volume: 315138233.23078100\n",
      "Ignore: 0\n"
     ]
    }
   ],
   "source": [
    "import requests\n",
    "\n",
    "# Binance API endpoint for candlestick data\n",
    "url = \"https://api.binance.com/api/v3/klines\"\n",
    "\n",
    "# Define request parameters\n",
    "params = {\n",
    "    \"symbol\": \"ETHUSDT\",  # Ethereum  to USDT\n",
    "    \"interval\": \"1d\",  # Time interval (1 day)\n",
    "    \"limit\": 100  # Get the last 100 data points\n",
    "}\n",
    "\n",
    "# Send request to Binance API\n",
    "response = requests.get(url, params=params)\n",
    "data = response.json()\n",
    "\n",
    "first_candle = data[0]  # First candlestick data point\n",
    "\n",
    "print(f\"Timestamp (Open time): {first_candle[0]}\")   # 0 - Open time (UNIX timestamp in milliseconds)\n",
    "print(f\"Open Price: {first_candle[1]} USDT\")         # 1 - Open price\n",
    "print(f\"High Price: {first_candle[2]} USDT\")         # 2 - High price\n",
    "print(f\"Low Price: {first_candle[3]} USDT\")          # 3 - Low price\n",
    "print(f\"Close Price: {first_candle[4]} USDT\")        # 4 - Close price\n",
    "print(f\"Volume: {first_candle[5]} ETH\")              # 5 - Volume (ETH traded)\n",
    "print(f\"Close Time: {first_candle[6]}\")              # 6 - Close time (UNIX timestamp in ms)\n",
    "print(f\"Quote Asset Volume: {first_candle[7]}\")      # 7 - Quote asset volume (total USDT traded)\n",
    "print(f\"Number of Trades: {first_candle[8]}\")        # 8 - Number of trades\n",
    "print(f\"Taker Buy Base Asset Volume: {first_candle[9]}\")  # 9 - Volume of ETH bought by takers\n",
    "print(f\"Taker Buy Quote Asset Volume: {first_candle[10]}\") # 10 - USDT spent by takers\n",
    "print(f\"Ignore: {first_candle[11]}\")                 # 11 - Ignore (always 0, can be ignored)\n",
    "\n"
   ]
  },
  {
   "cell_type": "markdown",
   "metadata": {},
   "source": [
    "convert the UNIX timestamp to a human-readable format"
   ]
  },
  {
   "cell_type": "code",
   "execution_count": 17,
   "metadata": {},
   "outputs": [
    {
     "name": "stdout",
     "output_type": "stream",
     "text": [
      "Open Time: 2024-11-03 00:00:00\n",
      "Close Time: 2024-11-03 23:59:59.999000\n"
     ]
    },
    {
     "name": "stderr",
     "output_type": "stream",
     "text": [
      "C:\\Users\\karim\\AppData\\Local\\Temp\\ipykernel_31380\\2094123663.py:3: DeprecationWarning: datetime.datetime.utcfromtimestamp() is deprecated and scheduled for removal in a future version. Use timezone-aware objects to represent datetimes in UTC: datetime.datetime.fromtimestamp(timestamp, datetime.UTC).\n",
      "  open_time = datetime.utcfromtimestamp(first_candle[0] / 1000)  # Convert ms to seconds\n",
      "C:\\Users\\karim\\AppData\\Local\\Temp\\ipykernel_31380\\2094123663.py:4: DeprecationWarning: datetime.datetime.utcfromtimestamp() is deprecated and scheduled for removal in a future version. Use timezone-aware objects to represent datetimes in UTC: datetime.datetime.fromtimestamp(timestamp, datetime.UTC).\n",
      "  close_time = datetime.utcfromtimestamp(first_candle[6] / 1000)\n"
     ]
    }
   ],
   "source": [
    "from datetime import datetime\n",
    "\n",
    "open_time = datetime.utcfromtimestamp(first_candle[0] / 1000)  # Convert ms to seconds\n",
    "close_time = datetime.utcfromtimestamp(first_candle[6] / 1000)\n",
    "\n",
    "print(f\"Open Time: {open_time}\")\n",
    "print(f\"Close Time: {close_time}\")\n"
   ]
  },
  {
   "cell_type": "markdown",
   "metadata": {},
   "source": [
    "#### How Binance Chooses the Start Date\n",
    "When requesting 100 daily candles (interval=\"1d\", limit=100), Binance:\n",
    "\n",
    "- Uses the latest full daily candle as the last one.\n",
    "- Counts 100 days backward to set the start date.\n",
    "- So, if today is Feb 10, 2025, Binance returns data from Nov 3, 2024 to Feb 9, 2025 (100 days before today)."
   ]
  },
  {
   "cell_type": "markdown",
   "metadata": {},
   "source": [
    "#### Controlling the Start Date Manually"
   ]
  },
  {
   "cell_type": "code",
   "execution_count": 18,
   "metadata": {},
   "outputs": [
    {
     "name": "stderr",
     "output_type": "stream",
     "text": [
      "2025-02-10 13:40:03.911 UTC DEBUG urllib3.connectionpool: Starting new HTTPS connection (1): api.binance.com:443\n",
      "2025-02-10 13:40:04.596 UTC DEBUG urllib3.connectionpool: https://api.binance.com:443 \"GET /api/v3/klines?symbol=ETHUSDT&interval=1d&startTime=1704063600000&endTime=1706742000000&limit=100 HTTP/11\" 200 1938\n"
     ]
    },
    {
     "name": "stdout",
     "output_type": "stream",
     "text": [
      "First Candle Open Time: 2024-01-01 00:00:00\n",
      "Last Candle Open Time: 2024-01-31 00:00:00\n"
     ]
    },
    {
     "name": "stderr",
     "output_type": "stream",
     "text": [
      "C:\\Users\\karim\\AppData\\Local\\Temp\\ipykernel_31380\\443907220.py:16: DeprecationWarning: datetime.datetime.utcfromtimestamp() is deprecated and scheduled for removal in a future version. Use timezone-aware objects to represent datetimes in UTC: datetime.datetime.fromtimestamp(timestamp, datetime.UTC).\n",
      "  print(f\"First Candle Open Time: {datetime.utcfromtimestamp(data[0][0] / 1000)}\")\n",
      "C:\\Users\\karim\\AppData\\Local\\Temp\\ipykernel_31380\\443907220.py:17: DeprecationWarning: datetime.datetime.utcfromtimestamp() is deprecated and scheduled for removal in a future version. Use timezone-aware objects to represent datetimes in UTC: datetime.datetime.fromtimestamp(timestamp, datetime.UTC).\n",
      "  print(f\"Last Candle Open Time: {datetime.utcfromtimestamp(data[-1][0] / 1000)}\")\n"
     ]
    }
   ],
   "source": [
    "import requests\n",
    "\n",
    "url = \"https://api.binance.com/api/v3/klines\"\n",
    "\n",
    "params = {\n",
    "    \"symbol\": \"ETHUSDT\",\n",
    "    \"interval\": \"1d\",\n",
    "    \"startTime\": int(datetime(2024, 1, 1).timestamp() * 1000),  # Jan 1, 2024\n",
    "    \"endTime\": int(datetime(2024, 2, 1).timestamp() * 1000),    # Feb 1, 2024\n",
    "    \"limit\": 100\n",
    "}\n",
    "\n",
    "response = requests.get(url, params=params)\n",
    "data = response.json()\n",
    "\n",
    "print(f\"First Candle Open Time: {datetime.utcfromtimestamp(data[0][0] / 1000)}\")\n",
    "print(f\"Last Candle Open Time: {datetime.utcfromtimestamp(data[-1][0] / 1000)}\")\n"
   ]
  },
  {
   "cell_type": "markdown",
   "metadata": {},
   "source": [
    "At specific hour"
   ]
  },
  {
   "cell_type": "code",
   "execution_count": 19,
   "metadata": {},
   "outputs": [
    {
     "name": "stderr",
     "output_type": "stream",
     "text": [
      "2025-02-10 13:47:47.936 UTC DEBUG urllib3.connectionpool: Starting new HTTPS connection (1): api.binance.com:443\n",
      "2025-02-10 13:47:48.658 UTC DEBUG urllib3.connectionpool: https://api.binance.com:443 \"GET /api/v3/klines?symbol=ETHUSDT&interval=1h&startTime=1739120400000&limit=5 HTTP/11\" 200 336\n"
     ]
    },
    {
     "name": "stdout",
     "output_type": "stream",
     "text": [
      "Open Time: 2025-02-09 17:00:00\n",
      "Open Time: 2025-02-09 18:00:00\n",
      "Open Time: 2025-02-09 19:00:00\n",
      "Open Time: 2025-02-09 20:00:00\n",
      "Open Time: 2025-02-09 21:00:00\n"
     ]
    },
    {
     "name": "stderr",
     "output_type": "stream",
     "text": [
      "C:\\Users\\karim\\AppData\\Local\\Temp\\ipykernel_31380\\1564835347.py:17: DeprecationWarning: datetime.datetime.utcfromtimestamp() is deprecated and scheduled for removal in a future version. Use timezone-aware objects to represent datetimes in UTC: datetime.datetime.fromtimestamp(timestamp, datetime.UTC).\n",
      "  print(f\"Open Time: {datetime.utcfromtimestamp(candle[0] / 1000)}\")\n"
     ]
    }
   ],
   "source": [
    "import requests\n",
    "from datetime import datetime\n",
    "\n",
    "url = \"https://api.binance.com/api/v3/klines\"\n",
    "\n",
    "params = {\n",
    "    \"symbol\": \"ETHUSDT\",\n",
    "    \"interval\": \"1h\",\n",
    "    \"startTime\": int(datetime(2025, 2, 9, 18, 0).timestamp() * 1000),  # Feb 9, 18:00 UTC\n",
    "    \"limit\": 5\n",
    "}\n",
    "\n",
    "response = requests.get(url, params=params)\n",
    "data = response.json()\n",
    "\n",
    "for candle in data:\n",
    "    print(f\"Open Time: {datetime.utcfromtimestamp(candle[0] / 1000)}\")\n"
   ]
  },
  {
   "cell_type": "markdown",
   "metadata": {},
   "source": [
    "### Finally :Fetch Binance Candlestick Data & Save to CSV"
   ]
  },
  {
   "cell_type": "code",
   "execution_count": 21,
   "metadata": {},
   "outputs": [
    {
     "name": "stderr",
     "output_type": "stream",
     "text": [
      "2025-02-10 13:54:58.442 UTC DEBUG urllib3.connectionpool: Starting new HTTPS connection (1): api.binance.com:443\n",
      "2025-02-10 13:54:58.864 UTC DEBUG urllib3.connectionpool: https://api.binance.com:443 \"GET /api/v3/klines?symbol=ETHUSDT&interval=1d&limit=365 HTTP/11\" 200 22866\n"
     ]
    },
    {
     "name": "stdout",
     "output_type": "stream",
     "text": [
      "Data saved to eth_usdt_candles.csv\n"
     ]
    }
   ],
   "source": [
    "import requests\n",
    "import pandas as pd\n",
    "from datetime import datetime\n",
    "\n",
    "# Binance API endpoint\n",
    "url = \"https://api.binance.com/api/v3/klines\"\n",
    "\n",
    "# Define request parameters\n",
    "params = {\n",
    "    \"symbol\": \"ETHUSDT\",  # Ethereum to USDT\n",
    "    \"interval\": \"1d\",  # 1-day interval\n",
    "    \"limit\": 365  # Get the last 100 candles\n",
    "}\n",
    "\n",
    "# Send request to Binance API\n",
    "response = requests.get(url, params=params)\n",
    "data = response.json()\n",
    "\n",
    "# Convert to DataFrame\n",
    "columns = [\"Open_Time\", \"Open\", \"High\", \"Low\", \"Close\", \"Volume\", \n",
    "           \"Close_Time\", \"Quote_Asset_Volume\", \"Number_of_Trades\", \n",
    "           \"Taker_Buy_Base_Volume\", \"Taker_Buy_Quote_Volume\", \"Ignore\"]\n",
    "\n",
    "df = pd.DataFrame(data, columns=columns)\n",
    "\n",
    "# Convert timestamps to human-readable format\n",
    "df[\"Open_Time\"] = pd.to_datetime(df[\"Open_Time\"], unit=\"ms\")\n",
    "df[\"Close_Time\"] = pd.to_datetime(df[\"Close_Time\"], unit=\"ms\")\n",
    "\n",
    "# Save to CSV\n",
    "csv_filename = \"eth_usdt_candles.csv\"\n",
    "df.to_csv(csv_filename, index=False)\n",
    "\n",
    "print(f\"Data saved to {csv_filename}\")\n"
   ]
  },
  {
   "cell_type": "markdown",
   "metadata": {},
   "source": [
    "Let's make a function that takes the coin, interval and limit as arguments and outputs a dataframe for candles information"
   ]
  },
  {
   "cell_type": "code",
   "execution_count": null,
   "metadata": {},
   "outputs": [],
   "source": [
    "import requests\n",
    "import pandas as pd\n",
    "from datetime import datetime\n",
    "\n",
    "\n",
    "def get_lkines(symbol= ETHUSDT, interval= \"1d\", limit = 365):\n",
    "    url = \"https://api.binance.com/api/v3/klines\"\n",
    "    params = {\n",
    "        \"symbol\": symbol,\n",
    "        \"interval\": interval,\n",
    "        \"limit\": limit\n",
    "    }\n",
    "\n",
    "    response = requests.get(url, params=params)\n",
    "    data = response.json()\n",
    "    # Convert to DataFrame\n",
    "    columns = [\"Open_Time\", \"Open\", \"High\", \"Low\", \"Close\", \"Volume\", \n",
    "           \"Close_Time\", \"Quote_Asset_Volume\", \"Number_of_Trades\", \n",
    "           \"Taker_Buy_Base_Volume\", \"Taker_Buy_Quote_Volume\", \"Ignore\"]\n",
    "    df = pd.DataFrame(data, columns=columns)\n",
    "    # Convert timestamps to human-readable format\n",
    "    df[\"Open_Time\"] = pd.to_datetime(df[\"Open_Time\"], unit=\"ms\")\n",
    "    df[\"Close_Time\"] = pd.to_datetime(df[\"Close_Time\"], unit=\"ms\")\n",
    "    return data\n"
   ]
  },
  {
   "cell_type": "code",
   "execution_count": null,
   "metadata": {},
   "outputs": [],
   "source": [
    "# Coins map_ humanely readable extracted from notebook\n",
    "symbol_map = {\n",
    "    \"bitcoin\": \"BTCUSDT\",\n",
    "    \"ethereum\": \"ETHUSDT\",\n",
    "    \"binance-coin\": \"BNBUSDT\",\n",
    "    \"ripple\": \"XRPUSDT\",\n",
    "    \"cardano\": \"ADAUSDT\",\n",
    "    \"solana\": \"SOLUSDT\",\n",
    "    \"polkadot\": \"DOTUSDT\",\n",
    "    \"dogecoin\": \"DOGEUSDT\",\n",
    "    \"shiba-inu\": \"SHIBUSDT\",\n",
    "    \"litecoin\": \"LTCUSDT\",\n",
    "    \"chainlink\": \"LINKUSDT\",\n",
    "    \"polygon\": \"MATICUSDT\",\n",
    "    \"avalanche\": \"AVAXUSDT\",\n",
    "    \"uniswap\": \"UNIUSDT\",\n",
    "    \"cosmos\": \"ATOMUSDT\",\n",
    "    \"stellar\": \"XLMUSDT\",\n",
    "    \"vechain\": \"VETUSDT\",\n",
    "    \"filecoin\": \"FILUSDT\",\n",
    "    \"algorand\": \"ALGOUSDT\",\n",
    "    \"monero\": \"XMRUSDT\",\n",
    "    \"bitcoin-cash\": \"BCHUSDT\",\n",
    "    \"eos\": \"EOSUSDT\",\n",
    "    \"tezos\": \"XTZUSDT\",\n",
    "    \"aave\": \"AAVEUSDT\",\n",
    "    \"compound\": \"COMPUSDT\",\n",
    "    \"maker\": \"MKRUSDT\",\n",
    "    \"theta\": \"THETAUSDT\",\n",
    "    \"axie-infinity\": \"AXSUSDT\",\n",
    "    \"decentraland\": \"MANAUSDT\",\n",
    "    \"the-sandbox\": \"SANDUSDT\",\n",
    "    \"gala\": \"GALAUSDT\",\n",
    "    \"enjin-coin\": \"ENJUSDT\",\n",
    "    \"curve-dao-token\": \"CRVUSDT\",\n",
    "    \"yearn-finance\": \"YFIUSDT\",\n",
    "    \"synthetix\": \"SNXUSDT\",\n",
    "    \"uma\": \"UMAUSDT\",\n",
    "    \"balancer\": \"BALUSDT\",\n",
    "    \"ren\": \"RENUSDT\",\n",
    "    \"0x\": \"ZRXUSDT\",\n",
    "    \"loopring\": \"LRCUSDT\",\n",
    "    \"harmony\": \"ONEUSDT\",\n",
    "    \"kava\": \"KAVAUSDT\",\n",
    "    \"zilliqa\": \"ZILUSDT\",\n",
    "    \"icon\": \"ICXUSDT\",\n",
    "    \"ontology\": \"ONTUSDT\",\n",
    "    \"qtum\": \"QTUMUSDT\",\n",
    "    \"iost\": \"IOSTUSDT\",\n",
    "    \"waves\": \"WAVESUSDT\",\n",
    "    \"omisego\": \"OMGUSDT\",\n",
    "    \"nano\": \"NANOUSDT\",\n",
    "    \"ravencoin\": \"RVNUSDT\",\n",
    "    \"helium\": \"HNTUSDT\",\n",
    "    \"chiliz\": \"CHZUSDT\",\n",
    "    \"ankr\": \"ANKRUSDT\",\n",
    "    \"fetch-ai\": \"FETUSDT\",\n",
    "    \"numeraire\": \"NMRUSDT\",\n",
    "    \"reserve-rights\": \"RSRUSDT\",\n",
    "    \"band-protocol\": \"BANDUSDT\",\n",
    "    \"ocean-protocol\": \"OCEANUSDT\",\n",
    "    \"arweave\": \"ARUSDT\",\n",
    "    \"celo\": \"CELOUSDT\",\n",
    "    \"uma\": \"UMAUSDT\",\n",
    "    \"mirror-protocol\": \"MIRUSDT\",\n",
    "    \"injective-protocol\": \"INJUSDT\",\n",
    "    \"alpha-finance\": \"ALPHAUSDT\",\n",
    "    \"serum\": \"SRMUSDT\",\n",
    "    \"raydium\": \"RAYUSDT\",\n",
    "    \"orca\": \"ORCAUSDT\",\n",
    "    \"audius\": \"AUDIOUSDT\",\n",
    "    \"tellor\": \"TRBUSDT\",\n",
    "    \"uma\": \"UMAUSDT\",\n",
    "    \"perpetual-protocol\": \"PERPUSDT\",\n",
    "    \"dydx\": \"DYDXUSDT\",\n",
    "    \"illuvium\": \"ILVUSDT\",\n",
    "    \"radix\": \"XRDUSDT\",\n",
    "    \"mina\": \"MINAUSDT\",\n",
    "    \"secret\": \"SCRTUSDT\",\n",
    "    \"juno\": \"JUNOUSDT\",\n",
    "    \"osmosis\": \"OSMOUSDT\",\n",
    "    \"evmos\": \"EVMOSUSDT\",\n",
    "    \"stargaze\": \"STARSUSDT\",\n",
    "    \"persistence\": \"XPRTUSDT\",\n",
    "    \"regen\": \"REGENUSDT\",\n",
    "    \"akash\": \"AKTUSDT\",\n",
    "    \"sentinel\": \"DVPNUSDT\",\n",
    "    \"irisnet\": \"IRISUSDT\",\n",
    "    \"kava\": \"KAVAUSDT\",\n",
    "    \"terra\": \"LUNAUSDT\",  # Note: Terra (LUNA) has been relaunched after the crash\n",
    "    \"anchor-protocol\": \"ANCUSDT\",\n",
    "    \"mirror-protocol\": \"MIRUSDT\",\n",
    "    \"thorchain\": \"RUNEUSDT\",\n",
    "    \"kadena\": \"KDAUSDT\",\n",
    "    \"hedera-hashgraph\": \"HBARUSDT\",\n",
    "    \"elrond\": \"EGLDUSDT\",\n",
    "    \"near-protocol\": \"NEARUSDT\",\n",
    "    \"flow\": \"FLOWUSDT\",\n",
    "    \"klaytn\": \"KLAYUSDT\",\n",
    "    \"fantom\": \"FTMUSDT\",\n",
    "    \"pancakeswap\": \"CAKEUSDT\",\n",
    "    \"sushi\": \"SUSHIUSDT\",\n",
    "    \"1inch\": \"1INCHUSDT\",\n",
    "    \"bancor\": \"BNTUSDT\",\n",
    "    \"kyber-network\": \"KNCUSDT\",\n",
    "    \"uma\": \"UMAUSDT\",\n",
    "    \"uma\": \"UMAUSDT\",\n",
    "    \"uma\": \"UMAUSDT\",\n",
    "}"
   ]
  }
 ],
 "metadata": {
  "kernelspec": {
   "display_name": "base",
   "language": "python",
   "name": "python3"
  },
  "language_info": {
   "codemirror_mode": {
    "name": "ipython",
    "version": 3
   },
   "file_extension": ".py",
   "mimetype": "text/x-python",
   "name": "python",
   "nbconvert_exporter": "python",
   "pygments_lexer": "ipython3",
   "version": "3.12.7"
  }
 },
 "nbformat": 4,
 "nbformat_minor": 2
}
